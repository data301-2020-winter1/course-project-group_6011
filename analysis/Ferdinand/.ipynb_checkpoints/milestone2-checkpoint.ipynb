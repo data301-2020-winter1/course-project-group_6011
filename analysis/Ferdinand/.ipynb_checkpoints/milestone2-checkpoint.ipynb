{
 "cells": [
  {
   "cell_type": "code",
   "execution_count": null,
   "metadata": {},
   "outputs": [],
   "source": [
    "import pandas as pd\n",
    "import seaborn as sns\n",
    "import numpy as np\n",
    "import matplotlib.pyplot as plt\n",
    "import pandas_profiling\n",
    "import sys,os\n",
    "sys.path.insert(0,os.path.abspath('..'))\n",
    "from Scripts import project_functions"
   ]
  },
  {
   "cell_type": "markdown",
   "metadata": {},
   "source": [
    "## Loading raw data into dataframe"
   ]
  },
  {
   "cell_type": "code",
   "execution_count": null,
   "metadata": {},
   "outputs": [],
   "source": [
    "df = pd.read_csv('adult.data')"
   ]
  },
  {
   "cell_type": "markdown",
   "metadata": {},
   "source": [
    "## Method Chaining for initial data analysis\n",
    "\n",
    "-**Column headers need to be fixed**\n",
    "\n",
    "    - The headers are the first row of data\n",
    "\n",
    "\n"
   ]
  },
  {
   "cell_type": "code",
   "execution_count": null,
   "metadata": {},
   "outputs": [],
   "source": [
    "df1 = project_functions.load_and_proccess(df)"
   ]
  },
  {
   "cell_type": "markdown",
   "metadata": {},
   "source": [
    "### EDA using profile_report()"
   ]
  },
  {
   "cell_type": "code",
   "execution_count": null,
   "metadata": {},
   "outputs": [],
   "source": [
    "df1.profile_report()"
   ]
  },
  {
   "cell_type": "markdown",
   "metadata": {},
   "source": [
    "## Research Question \n",
    "   **How do factors like age, sex, race and marital status effect a persons education level?**\n",
    "   - The \"Education-Num\" variable corresponds to the level of education (higher = more education)."
   ]
  },
  {
   "cell_type": "code",
   "execution_count": null,
   "metadata": {},
   "outputs": [],
   "source": [
    "df1\n"
   ]
  },
  {
   "cell_type": "markdown",
   "metadata": {},
   "source": [
    "**Average Education level by race**"
   ]
  },
  {
   "cell_type": "code",
   "execution_count": null,
   "metadata": {},
   "outputs": [],
   "source": [
    "races = set(df1['Race'])\n",
    "\n",
    "races = list(races)\n",
    "\n",
    "data = {'Race':races,'Avg_eNum':[]}\n",
    "\n",
    "for race in races:\n",
    "    dft = df1[df1['Race'] == race]\n",
    "    data['Avg_eNum'].append(np.mean(dft['Education-Num']))\n",
    "\n",
    "\n",
    "df2 = pd.DataFrame.from_dict(data)\n",
    "df2 = df2.sort_values('Avg_eNum', ascending = False,ignore_index = True)\n",
    "df2"
   ]
  },
  {
   "cell_type": "code",
   "execution_count": null,
   "metadata": {},
   "outputs": [],
   "source": [
    "a4_dims = (8.27,11.7)\n",
    "sns.set_theme(font_scale = 1.25)\n",
    "sns.set_style(\"white\")\n",
    "fig,ax = plt.subplots(figsize=a4_dims)\n",
    "sns.violinplot(x ='Education-Num', y = 'Race',ax=ax,data = df1,order = df2['Race'],color =\"lightblue\")\n",
    "plot = plt.title(\"Races sorted by Education-Num\")"
   ]
  },
  {
   "cell_type": "markdown",
   "metadata": {},
   "source": [
    "**The above graph seems to indicate that Asians have the highest education level in this dataset**"
   ]
  },
  {
   "cell_type": "markdown",
   "metadata": {},
   "source": [
    "**Average Education level by age**"
   ]
  },
  {
   "cell_type": "code",
   "execution_count": null,
   "metadata": {},
   "outputs": [],
   "source": [
    "\n",
    "ages = list(df1['Age'])\n",
    "\n",
    "\n",
    "ageGroups = [(0,20),(20,30),(30,40),(40,50),(50,60),(70,1000)]\n",
    "\n",
    "Groups = ['0-20','20-30','30-40','40-50','50-60','70+']\n",
    "\n",
    "data = {'Age':Groups,'Avg_eNum':[]}\n",
    "\n",
    "for age in ages:\n",
    "    for index,tuple in enumerate(ageGroups):\n",
    "        low = tuple[0]\n",
    "        high = tuple[1]\n",
    "        dft = df1[(df1['Age'] >= low) & (df1['Age'] <= high)]\n",
    "        data['Avg_eNum'].append(np.mean(dft['Education-Num']))            \n",
    "            \n",
    "df2 = pd.DataFrame.from_dict(data)\n",
    "df2 = df2.sort_values('Avg_eNum', ascending = False,ignore_index = True)\n",
    "df2"
   ]
  },
  {
   "cell_type": "code",
   "execution_count": null,
   "metadata": {},
   "outputs": [],
   "source": []
  },
  {
   "cell_type": "code",
   "execution_count": null,
   "metadata": {},
   "outputs": [],
   "source": []
  }
 ],
 "metadata": {
  "kernelspec": {
   "display_name": "Python 3",
   "language": "python",
   "name": "python3"
  },
  "language_info": {
   "codemirror_mode": {
    "name": "ipython",
    "version": 3
   },
   "file_extension": ".py",
   "mimetype": "text/x-python",
   "name": "python",
   "nbconvert_exporter": "python",
   "pygments_lexer": "ipython3",
   "version": "3.8.3"
  }
 },
 "nbformat": 4,
 "nbformat_minor": 4
}
